{
 "cells": [
  {
   "cell_type": "markdown",
   "id": "1a2dfbf8",
   "metadata": {},
   "source": [
    "# quantinium Forage Task"
   ]
  },
  {
   "cell_type": "markdown",
   "id": "a473a5b2",
   "metadata": {},
   "source": [
    "by: Camilo Palacios"
   ]
  },
  {
   "cell_type": "code",
   "execution_count": 4,
   "id": "eb05f843",
   "metadata": {},
   "outputs": [
    {
     "name": "stdout",
     "output_type": "stream",
     "text": [
      "         DATE  STORE_NBR  LYLTY_CARD_NBR  TXN_ID  PROD_NBR  \\\n",
      "0       43390          1            1000       1         5   \n",
      "1       43599          1            1307     348        66   \n",
      "2       43605          1            1343     383        61   \n",
      "3       43329          2            2373     974        69   \n",
      "4       43330          2            2426    1038       108   \n",
      "...       ...        ...             ...     ...       ...   \n",
      "264831  43533        272          272319  270088        89   \n",
      "264832  43325        272          272358  270154        74   \n",
      "264833  43410        272          272379  270187        51   \n",
      "264834  43461        272          272379  270188        42   \n",
      "264835  43365        272          272380  270189        74   \n",
      "\n",
      "                                       PROD_NAME  PROD_QTY  TOT_SALES  \\\n",
      "0         Natural Chip        Compny SeaSalt175g         2        6.0   \n",
      "1                       CCs Nacho Cheese    175g         3        6.3   \n",
      "2         Smiths Crinkle Cut  Chips Chicken 170g         2        2.9   \n",
      "3         Smiths Chip Thinly  S/Cream&Onion 175g         5       15.0   \n",
      "4       Kettle Tortilla ChpsHny&Jlpno Chili 150g         3       13.8   \n",
      "...                                          ...       ...        ...   \n",
      "264831   Kettle Sweet Chilli And Sour Cream 175g         2       10.8   \n",
      "264832             Tostitos Splash Of  Lime 175g         1        4.4   \n",
      "264833                  Doritos Mexicana    170g         2        8.8   \n",
      "264834   Doritos Corn Chip Mexican Jalapeno 150g         2        7.8   \n",
      "264835             Tostitos Splash Of  Lime 175g         2        8.8   \n",
      "\n",
      "             date  \n",
      "0      2018-10-17  \n",
      "1      2019-05-14  \n",
      "2      2019-05-20  \n",
      "3      2018-08-17  \n",
      "4      2018-08-18  \n",
      "...           ...  \n",
      "264831 2019-03-09  \n",
      "264832 2018-08-13  \n",
      "264833 2018-11-06  \n",
      "264834 2018-12-27  \n",
      "264835 2018-09-22  \n",
      "\n",
      "[264836 rows x 9 columns]\n"
     ]
    }
   ],
   "source": [
    "import pandas as pd\n",
    "import matplotlib.pyplot as plt\n",
    "\n",
    "# Import data\n",
    "df_purchase = pd.read_csv('QVI_purchase_behaviour.csv')\n",
    "df_transac = pd.read_excel('QVI_transaction_data.xlsx')\n",
    "# Convert Excel seria number to datetime\n",
    "df_transac['date'] = pd.to_datetime('1899-12-30') + pd.to_timedelta(df_transac['DATE'],unit='D')\n",
    "print(df_transac.head(10))"
   ]
  },
  {
   "cell_type": "code",
   "execution_count": 9,
   "id": "6352302f",
   "metadata": {},
   "outputs": [
    {
     "name": "stdout",
     "output_type": "stream",
     "text": [
      "    DATE  STORE_NBR  LYLTY_CARD_NBR  TXN_ID  PROD_NBR  \\\n",
      "0  43390          1            1000       1         5   \n",
      "1  43599          1            1307     348        66   \n",
      "2  43605          1            1343     383        61   \n",
      "3  43329          2            2373     974        69   \n",
      "4  43330          2            2426    1038       108   \n",
      "5  43604          4            4074    2982        57   \n",
      "6  43601          4            4149    3333        16   \n",
      "7  43601          4            4196    3539        24   \n",
      "8  43332          5            5026    4525        42   \n",
      "9  43330          7            7150    6900        52   \n",
      "\n",
      "                                  PROD_NAME  PROD_QTY  TOT_SALES       date  \\\n",
      "0    Natural Chip        Compny SeaSalt175g         2        6.0 2018-10-17   \n",
      "1                  CCs Nacho Cheese    175g         3        6.3 2019-05-14   \n",
      "2    Smiths Crinkle Cut  Chips Chicken 170g         2        2.9 2019-05-20   \n",
      "3    Smiths Chip Thinly  S/Cream&Onion 175g         5       15.0 2018-08-17   \n",
      "4  Kettle Tortilla ChpsHny&Jlpno Chili 150g         3       13.8 2018-08-18   \n",
      "5  Old El Paso Salsa   Dip Tomato Mild 300g         1        5.1 2019-05-19   \n",
      "6  Smiths Crinkle Chips Salt & Vinegar 330g         1        5.7 2019-05-16   \n",
      "7     Grain Waves         Sweet Chilli 210g         1        3.6 2019-05-16   \n",
      "8   Doritos Corn Chip Mexican Jalapeno 150g         1        3.9 2018-08-20   \n",
      "9     Grain Waves Sour    Cream&Chives 210G         2        7.2 2018-08-18   \n",
      "\n",
      "                           product_base  \n",
      "0                          Natural Chip  \n",
      "1                      CCs Nacho Cheese  \n",
      "2                    Smiths Crinkle Cut  \n",
      "3                    Smiths Chip Thinly  \n",
      "4  Kettle Tortilla ChpsHnyJlpno Chili g  \n",
      "5                     Old El Paso Salsa  \n",
      "6   Smiths Crinkle Chips Salt Vinegar g  \n",
      "7                           Grain Waves  \n",
      "8  Doritos Corn Chip Mexican Jalapeno g  \n",
      "9                      Grain Waves Sour  \n"
     ]
    }
   ],
   "source": [
    "# Create a column for only the product name\n",
    "df_transac['product_base'] = (\n",
    "    df_transac['PROD_NAME']\n",
    "    .str.split(r'\\s{2,}').str[0]                      #split by 2+ spaces and take the first part\n",
    "    .str.replace(r'[^A-Za-z\\s]', '', regex=True)      #remove special characters and numbers\n",
    "    .str.replace(r'\\s+', ' ', regex=True)             #remove leading/trailing spaces\n",
    "    .str.strip()\n",
    ")\n",
    "print(df_transac.head(10))"
   ]
  },
  {
   "cell_type": "code",
   "execution_count": 17,
   "id": "f54ed869",
   "metadata": {},
   "outputs": [
    {
     "name": "stdout",
     "output_type": "stream",
     "text": [
      "         word  count\n",
      "0           g  76539\n",
      "1      Kettle  41288\n",
      "2       Chips  34427\n",
      "3      Smiths  28860\n",
      "4    Pringles  25102\n",
      "5     Doritos  24962\n",
      "6     Crinkle  23960\n",
      "7        Corn  20554\n",
      "8      Cheese  20001\n",
      "9         Cut  19140\n",
      "10       Salt  18900\n",
      "11       Chip  18645\n",
      "12      Thins  14075\n",
      "13        Sea  12676\n",
      "14       Sour  12366\n",
      "15      Salsa  12245\n",
      "16        RRD  11894\n",
      "17  Infuzions  11057\n",
      "18   Original  10812\n",
      "19     Chilli  10728\n"
     ]
    }
   ],
   "source": [
    "# Count the times a word is repeated\n",
    "products = df_transac['product_base'].str.split().explode()\n",
    "count_prod = products.value_counts().reset_index()\n",
    "count_prod.columns = ['word','count']\n",
    "print(count_prod.head(20))"
   ]
  },
  {
   "cell_type": "code",
   "execution_count": 15,
   "id": "50cd1fa0",
   "metadata": {},
   "outputs": [
    {
     "name": "stdout",
     "output_type": "stream",
     "text": [
      "         DATE  STORE_NBR  LYLTY_CARD_NBR  TXN_ID  PROD_NBR  \\\n",
      "69763   43605        226          226000  226210         4   \n",
      "69762   43331        226          226000  226201         4   \n",
      "135225  43600         46           46296   42138        81   \n",
      "69523   43600         71           71142   69852        96   \n",
      "69502   43330         55           55144   49328        44   \n",
      "69496   43327         49           49303   45789        14   \n",
      "69486   43601         45           45006   40460        37   \n",
      "69483   43327         43           43126   39445        25   \n",
      "69474   43330         33           33138   30332        68   \n",
      "69472   43329         32           32193   29196       110   \n",
      "\n",
      "                                       PROD_NAME  PROD_QTY  TOT_SALES  \\\n",
      "69763           Dorito Corn Chp     Supreme 380g       200      650.0   \n",
      "69762           Dorito Corn Chp     Supreme 380g       200      650.0   \n",
      "135225           Pringles Original   Crisps 134g         5       18.5   \n",
      "69523             WW Original Stacked Chips 160g         5        9.5   \n",
      "69502             Thins Chips Light&  Tangy 175g         5       16.5   \n",
      "69496     Smiths Crnkle Chip  Orgnl Big Bag 380g         5       29.5   \n",
      "69486   Smiths Thinly       Swt Chli&S/Cream175G         5       15.0   \n",
      "69483             Pringles SourCream  Onion 134g         5       18.5   \n",
      "69474        Pringles Chicken    Salt Crips 134g         5       18.5   \n",
      "69472             WW Original Corn    Chips 200g         5        9.5   \n",
      "\n",
      "             date                 product_base  \n",
      "69763  2019-05-20              Dorito Corn Chp  \n",
      "69762  2018-08-19              Dorito Corn Chp  \n",
      "135225 2019-05-15            Pringles Original  \n",
      "69523  2019-05-15  WW Original Stacked Chips g  \n",
      "69502  2018-08-18            Thins Chips Light  \n",
      "69496  2018-08-15           Smiths Crnkle Chip  \n",
      "69486  2019-05-16                Smiths Thinly  \n",
      "69483  2018-08-15           Pringles SourCream  \n",
      "69474  2018-08-18             Pringles Chicken  \n",
      "69472  2018-08-17             WW Original Corn  \n"
     ]
    }
   ],
   "source": [
    "# Remove products that are not chips (salsa)\n",
    "df_chips = df_transac[~df_transac['PROD_NAME'].str.contains('salsa', case = False, regex = True)]\n",
    "print(df_chips.sort_values(by='PROD_QTY', ascending=False).head(10))\n",
    "# Remove customer with outlier values\n",
    "df_chips = df_chips[df_chips['LYLTY_CARD_NBR'] != 226000]"
   ]
  },
  {
   "cell_type": "code",
   "execution_count": 23,
   "id": "0710e73f",
   "metadata": {},
   "outputs": [
    {
     "data": {
      "image/png": "[encoded data removed]",
      "text/plain": [
       "<Figure size 864x432 with 1 Axes>"
      ]
     },
     "metadata": {
      "needs_background": "light"
     },
     "output_type": "display_data"
    },
    {
     "data": {
      "image/png": "[encoded data removed]",
      "text/plain": [
       "<Figure size 864x432 with 1 Axes>"
      ]
     },
     "metadata": {
      "needs_background": "light"
     },
     "output_type": "display_data"
    }
   ],
   "source": [
    "# Count number of transaction per date\n",
    "transaction_per_date= df_chips.groupby('date').size().reset_index(name='num_transactions')\n",
    "# Plot number of transaction per date\n",
    "plt.figure(figsize=(12,6))\n",
    "plt.scatter(transaction_per_date['date'],transaction_per_date['num_transactions'])\n",
    "plt.show()\n",
    "# Isolate sales in december\n",
    "sales_dec = transaction_per_date[transaction_per_date['date'].dt.month==12]\n",
    "plt.figure(figsize=(12,6))\n",
    "plt.scatter(sales_dec['date'],sales_dec['num_transactions'])\n",
    "plt.show()\n",
    "# No sales on dec-25"
   ]
  },
  {
   "cell_type": "code",
   "execution_count": 31,
   "id": "277a4f8b",
   "metadata": {},
   "outputs": [
    {
     "data": {
      "text/plain": [
       "<function matplotlib.pyplot.show(close=None, block=None)>"
      ]
     },
     "execution_count": 31,
     "metadata": {},
     "output_type": "execute_result"
    },
    {
     "data": {
      "image/png": "[encoded data removed]",
      "text/plain": [
       "<Figure size 864x432 with 1 Axes>"
      ]
     },
     "metadata": {
      "needs_background": "light"
     },
     "output_type": "display_data"
    }
   ],
   "source": [
    "# Get products size\n",
    "df_chips['PACK_SIZE']=df_chips['PROD_NAME'].str.extract(r'(\\d+)').astype(float)\n",
    "# Create histogram for size distrubution\n",
    "plt.figure(figsize=(12,6))\n",
    "counts,bins,patches = plt.hist(df_chips['PACK_SIZE'].dropna(), bins=10, edgecolor='black')\n",
    "plt.show"
   ]
  },
  {
   "cell_type": "code",
   "execution_count": 34,
   "id": "1c7b585a",
   "metadata": {},
   "outputs": [
    {
     "name": "stdout",
     "output_type": "stream",
     "text": [
      "         BRAND  count\n",
      "0       Kettle  41288\n",
      "1       Smiths  27390\n",
      "2     Pringles  25102\n",
      "3      Doritos  22041\n",
      "4        Thins  14075\n",
      "5          RRD  11894\n",
      "6    Infuzions  11057\n",
      "7           WW  10320\n",
      "8         Cobs   9693\n",
      "9     Tostitos   9471\n",
      "10    Twisties   9454\n",
      "11    Tyrrells   6442\n",
      "12       Grain   6272\n",
      "13     Natural   6050\n",
      "14    Cheezels   4603\n",
      "15         CCs   4551\n",
      "16         Red   4427\n",
      "17      Dorito   3183\n",
      "18      Infzns   3144\n",
      "19       Smith   2963\n",
      "20     Cheetos   2927\n",
      "21       Snbts   1576\n",
      "22      Burger   1564\n",
      "23  Woolworths   1516\n",
      "24     GrnWves   1468\n",
      "25    Sunbites   1432\n",
      "26         NCC   1419\n",
      "27      French   1418\n",
      "        BRAND  count\n",
      "0      Kettle  41288\n",
      "1      Smiths  30353\n",
      "2    Pringles  25102\n",
      "3     Doritos  22041\n",
      "4         Red  16321\n",
      "5       Thins  14075\n",
      "6          Ww  11836\n",
      "7   Infuzions  11057\n",
      "8        Cobs   9693\n",
      "9    Tostitos   9471\n",
      "10   Twisties   9454\n",
      "11    Grnwves   7740\n",
      "12   Tyrrells   6442\n",
      "13    Natural   6050\n",
      "14   Cheezels   4603\n",
      "15        Ccs   4551\n",
      "16     Dorito   3183\n",
      "17   Infuzion   3144\n",
      "18   Sunbites   3008\n",
      "19    Cheetos   2927\n",
      "20     Burger   1564\n",
      "21        Ncc   1419\n",
      "22     French   1418\n"
     ]
    }
   ],
   "source": [
    "# Group by brand names\n",
    "df_chips['BRAND']= df_chips['PROD_NAME'].str.split().str[0]\n",
    "brand_count = df_chips['BRAND'].value_counts().reset_index()\n",
    "brand_count.columns = ['BRAND','count']\n",
    "print(brand_count)\n",
    "\n",
    "# Match repeated names\n",
    "brand_mapping = {\n",
    "    'rrd':'Red',\n",
    "    'infzns':'Infuzion',\n",
    "    'smith':'Smiths',\n",
    "    'snbts':'Sunbites',\n",
    "    'grain':'GrnWves',\n",
    "    'woolworths':'WW'\n",
    "}\n",
    "df_chips['BRAND']=df_chips['BRAND'].str.lower().replace(brand_mapping)\n",
    "df_chips['BRAND']=df_chips['BRAND'].str.title()\n",
    "\n",
    "brand_count = df_chips['BRAND'].value_counts().reset_index()\n",
    "brand_count.columns = ['BRAND','count']\n",
    "print(brand_count)"
   ]
  },
  {
   "cell_type": "code",
   "execution_count": 38,
   "id": "07d197ae",
   "metadata": {},
   "outputs": [
    {
     "name": "stdout",
     "output_type": "stream",
     "text": [
      "   LYLTY_CARD_NBR               LIFESTAGE PREMIUM_CUSTOMER AGE_GRP  \\\n",
      "0            1000   YOUNG SINGLES/COUPLES          Premium   YOUNG   \n",
      "1            1002   YOUNG SINGLES/COUPLES       Mainstream   YOUNG   \n",
      "2            1003          YOUNG FAMILIES           Budget   YOUNG   \n",
      "3            1004   OLDER SINGLES/COUPLES       Mainstream   OLDER   \n",
      "4            1005  MIDAGE SINGLES/COUPLES       Mainstream  MIDAGE   \n",
      "5            1007   YOUNG SINGLES/COUPLES           Budget   YOUNG   \n",
      "6            1009            NEW FAMILIES          Premium     NEW   \n",
      "7            1010   YOUNG SINGLES/COUPLES       Mainstream   YOUNG   \n",
      "8            1011   OLDER SINGLES/COUPLES       Mainstream   OLDER   \n",
      "9            1012          OLDER FAMILIES       Mainstream   OLDER   \n",
      "\n",
      "          CUST_TYP  \n",
      "0  SINGLES/COUPLES  \n",
      "1  SINGLES/COUPLES  \n",
      "2         FAMILIES  \n",
      "3  SINGLES/COUPLES  \n",
      "4  SINGLES/COUPLES  \n",
      "5  SINGLES/COUPLES  \n",
      "6         FAMILIES  \n",
      "7  SINGLES/COUPLES  \n",
      "8  SINGLES/COUPLES  \n",
      "9         FAMILIES  \n",
      "      GROUP  count\n",
      "0     OLDER  24389\n",
      "1     YOUNG  23619\n",
      "2  RETIREES  14805\n",
      "3    MIDAGE   7275\n",
      "4       NEW   2549\n",
      "          CUST_TYP  count\n",
      "0  SINGLES/COUPLES  36325\n",
      "1         FAMILIES  21507\n",
      "2         RETIREES  14805\n",
      "     Category  count\n",
      "0  Mainstream  29245\n",
      "1      Budget  24470\n",
      "2     Premium  18922\n"
     ]
    }
   ],
   "source": [
    "#####################  CUSTOMER DATA  ########################\n",
    "df_purchase['AGE_GRP']=df_purchase['LIFESTAGE'].str.split().str[0]\n",
    "df_purchase['CUST_TYP']=df_purchase['LIFESTAGE'].str.split().str[-1]\n",
    "print(df_purchase.head(10))\n",
    "age_grp=df_purchase['AGE_GRP'].value_counts().reset_index()\n",
    "age_grp.columns=['GROUP','count']\n",
    "print(age_grp)\n",
    "cust_typ=df_purchase['CUST_TYP'].value_counts().reset_index()\n",
    "cust_typ.columns=['CUST_TYP','count']\n",
    "print(cust_typ)\n",
    "category=df_purchase['PREMIUM_CUSTOMER'].value_counts().reset_index()\n",
    "category.columns=['Category','count']\n",
    "print(category)"
   ]
  }
 ],
 "metadata": {
  "kernelspec": {
   "display_name": "Python 3",
   "language": "python",
   "name": "python3"
  },
  "language_info": {
   "codemirror_mode": {
    "name": "ipython",
    "version": 3
   },
   "file_extension": ".py",
   "mimetype": "text/x-python",
   "name": "python",
   "nbconvert_exporter": "python",
   "pygments_lexer": "ipython3",
   "version": "3.8.8"
  }
 },
 "nbformat": 4,
 "nbformat_minor": 5
}
